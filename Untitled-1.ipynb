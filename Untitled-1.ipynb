{
 "cells": [
  {
   "cell_type": "markdown",
   "id": "bf457ab7",
   "metadata": {},
   "source": [
    "# Ventas vs Gastos Mensuales (2024-01 a 2025-05)\n",
    "\n",
    "Este notebook permite visualizar la comparación mensual entre las ventas (ingresos) y los gastos de la empresa desde enero 2024 hasta mayo 2025."
   ]
  },
  {
   "cell_type": "markdown",
   "id": "0a803462",
   "metadata": {},
   "source": [
    "## 1. Importar Librerías y Conectar a la Base de Datos\n",
    "\n",
    "Importamos las librerías necesarias y establecemos la conexión a la base de datos para extraer los datos de ventas y gastos."
   ]
  },
  {
   "cell_type": "code",
   "execution_count": null,
   "id": "e95bda5e",
   "metadata": {},
   "outputs": [],
   "source": [
    "import pandas as pd\n",
    "import numpy as np\n",
    "from sqlalchemy import create_engine\n",
    "from urllib.parse import quote_plus\n",
    "import plotly.graph_objects as go\n",
    "from plotly.subplots import make_subplots\n",
    "\n",
    "# Configuración de conexión (ajusta según tus credenciales)\n",
    "usuario = \"root\"\n",
    "contraseña = \"3112708652El\"\n",
    "host = \"localhost\"\n",
    "puerto = 3306\n",
    "basededatos = \"demo_wft\"\n",
    "\n",
    "contraseña_escapada = quote_plus(contraseña)\n",
    "engine = create_engine(f\"mysql+pymysql://{usuario}:{contraseña_escapada}@{host}:{puerto}/{basededatos}\")"
   ]
  },
  {
   "cell_type": "markdown",
   "id": "6953dde6",
   "metadata": {},
   "source": [
    "## 2. Obtener y Procesar Datos de Ingresos Mensuales (Ventas)\n",
    "\n",
    "Consultamos y agrupamos los ingresos mensuales por ventas desde enero 2024 hasta mayo 2025. Nos aseguramos de que cada mes esté representado, aunque no haya ventas."
   ]
  },
  {
   "cell_type": "code",
   "execution_count": null,
   "id": "f6d4cddd",
   "metadata": {},
   "outputs": [],
   "source": [
    "# Consulta de ingresos mensuales por ventas\n",
    "query_ingresos = \"\"\"\n",
    "SELECT \n",
    "    DATE_FORMAT(d.fecha, '%Y-%m-01') AS mes,\n",
    "    SUM(di.total) AS ingresos\n",
    "FROM documents d\n",
    "JOIN document_items di ON d.id = di.document_id\n",
    "WHERE d.tipo = 'venta'\n",
    "  AND d.fecha BETWEEN '2024-01-01' AND '2025-05-31'\n",
    "GROUP BY mes\n",
    "ORDER BY mes\n",
    "\"\"\"\n",
    "\n",
    "df_ingresos = pd.read_sql(query_ingresos, engine)\n",
    "df_ingresos['mes'] = pd.to_datetime(df_ingresos['mes'])\n",
    "df_ingresos['ingresos'] = pd.to_numeric(df_ingresos['ingresos'], errors='coerce').fillna(0)\n",
    "\n",
    "# Generar rango completo de meses\n",
    "rango_meses = pd.date_range(start='2024-01-01', end='2025-05-01', freq='MS')\n",
    "df_meses = pd.DataFrame({'mes': rango_meses})\n",
    "\n",
    "# Unir para asegurar que todos los meses estén presentes\n",
    "df_ingresos = pd.merge(df_meses, df_ingresos, on='mes', how='left')\n",
    "df_ingresos['ingresos'] = df_ingresos['ingresos'].fillna(0)"
   ]
  },
  {
   "cell_type": "markdown",
   "id": "b6b8804a",
   "metadata": {},
   "source": [
    "## 3. Obtener y Procesar Datos de Gastos Mensuales\n",
    "\n",
    "Consultamos y agrupamos los gastos mensuales de la empresa desde enero 2024 hasta mayo 2025. Nos aseguramos de que cada mes esté representado, aunque no haya gastos."
   ]
  },
  {
   "cell_type": "code",
   "execution_count": null,
   "id": "d216e71a",
   "metadata": {},
   "outputs": [],
   "source": [
    "# Consulta de gastos mensuales (ajusta la tabla y columnas según tu modelo de datos)\n",
    "query_gastos = \"\"\"\n",
    "SELECT \n",
    "    DATE_FORMAT(fecha, '%Y-%m-01') AS mes,\n",
    "    SUM(monto) AS gastos\n",
    "FROM gastos\n",
    "WHERE fecha BETWEEN '2024-01-01' AND '2025-05-31'\n",
    "GROUP BY mes\n",
    "ORDER BY mes\n",
    "\"\"\"\n",
    "\n",
    "df_gastos = pd.read_sql(query_gastos, engine)\n",
    "df_gastos['mes'] = pd.to_datetime(df_gastos['mes'])\n",
    "df_gastos['gastos'] = pd.to_numeric(df_gastos['gastos'], errors='coerce').fillna(0)\n",
    "\n",
    "# Unir para asegurar que todos los meses estén presentes\n",
    "df_gastos = pd.merge(df_meses, df_gastos, on='mes', how='left')\n",
    "df_gastos['gastos'] = df_gastos['gastos'].fillna(0)"
   ]
  },
  {
   "cell_type": "markdown",
   "id": "3f08924c",
   "metadata": {},
   "source": [
    "## 4. Unir Ingresos y Gastos por Mes\n",
    "\n",
    "Realizamos un merge externo entre los DataFrames de ingresos y gastos para tener ambos valores por cada mes, rellenando valores faltantes con 0."
   ]
  },
  {
   "cell_type": "code",
   "execution_count": null,
   "id": "33ed4fd0",
   "metadata": {},
   "outputs": [],
   "source": [
    "# Unir ingresos y gastos por mes\n",
    "df_ventas_gastos = pd.merge(df_ingresos, df_gastos, on='mes', how='outer')\n",
    "df_ventas_gastos = df_ventas_gastos.fillna(0)"
   ]
  },
  {
   "cell_type": "markdown",
   "id": "db023c92",
   "metadata": {},
   "source": [
    "## 5. Graficar Ventas vs Gastos por Mes (2024-01 a 2025-05)\n",
    "\n",
    "Creamos una gráfica de barras agrupadas usando Plotly, donde cada mes tiene una barra para ventas y otra para gastos, mostrando claramente la comparación mensual."
   ]
  },
  {
   "cell_type": "code",
   "execution_count": null,
   "id": "916741d5",
   "metadata": {},
   "outputs": [],
   "source": [
    "fig = go.Figure(data=[\n",
    "    go.Bar(\n",
    "        x=df_ventas_gastos['mes'],\n",
    "        y=df_ventas_gastos['ingresos'],\n",
    "        name='Ventas',\n",
    "        marker_color='#28a745'\n",
    "    ),\n",
    "    go.Bar(\n",
    "        x=df_ventas_gastos['mes'],\n",
    "        y=df_ventas_gastos['gastos'],\n",
    "        name='Gastos',\n",
    "        marker_color='#dc3545'\n",
    "    )\n",
    "])\n",
    "\n",
    "fig.update_layout(\n",
    "    barmode='group',\n",
    "    title='Ventas vs Gastos Mensuales (2024-01 a 2025-05)',\n",
    "    xaxis_title='Mes',\n",
    "    yaxis_title='Monto ($)',\n",
    "    template='plotly_white',\n",
    "    xaxis=dict(\n",
    "        tickformat='%b %Y',\n",
    "        tickvals=df_ventas_gastos['mes'],\n",
    "        tickangle=45\n",
    "    )\n",
    ")\n",
    "\n",
    "fig.show()"
   ]
  }
 ],
 "metadata": {
  "kernelspec": {
   "display_name": "Python 3",
   "language": "python",
   "name": "python3"
  },
  "language_info": {
   "name": "python",
   "version": "3.11.9"
  }
 },
 "nbformat": 4,
 "nbformat_minor": 5
}
